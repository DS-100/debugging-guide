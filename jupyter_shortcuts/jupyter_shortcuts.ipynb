{
  "cells": [
    {
      "cell_type": "raw",
      "metadata": {},
      "source": [
        "---\n",
        "title: Jupyter Shortcuts\n",
        "format:\n",
        "  html:\n",
        "    toc: true\n",
        "    toc-depth: 5\n",
        "    toc-location: right\n",
        "    code-fold: false\n",
        "    theme:\n",
        "      - cosmo\n",
        "      - cerulean\n",
        "    callout-icon: false\n",
        "---"
      ]
    },
    {
      "cell_type": "markdown",
      "metadata": {},
      "source": [
        "::: {.callout-note collapse=\"false\"}\n",
        "**Note**: if you're using a Macbook, please replace `ctrl` with `cmd`\n",
        ":::\n",
        "\n",
        "## Shortcuts for Cells\n",
        "\n",
        "For the following commands, make sure you're in command mode. You can enter this mode by pressing `esc`.\n",
        "\n",
        "- `a`: create a cell above\n",
        "- `b`: create a cell below\n",
        "- `dd`: delete current cell\n",
        "- `m`: convert a cell to markdown (text cell)\n",
        "- `y`: convert a cell to code \n",
        "\n",
        "## Running Cells\n",
        "\n",
        "For individual cells, \n",
        "\n",
        "- `ctrl` + `return`: run the current cell\n",
        "- `shift` + `return`: run the current cell and move to the next cell\n",
        "\n",
        "To run all cells in a notebook: \n",
        "\n",
        "1. In the menu bar on the left, click `Run`. From here, you have several selections:\n",
        "    1.1 `Rn All Above Selected Cell`\n",
        "    1.2 `Run Selected Cell and All Below` \n",
        "    1.3 `Run All`\n",
        "\n",
        "[TODO] add a gif/video ?\n",
        "\n"
      ]
    },
    {
      "cell_type": "markdown",
      "metadata": {},
      "source": []
    }
  ],
  "metadata": {
    "kernelspec": {
      "display_name": "Python 3 (ipykernel)",
      "language": "python",
      "name": "python3"
    }
  },
  "nbformat": 4,
  "nbformat_minor": 4
}
