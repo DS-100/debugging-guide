{
  "cells": [
    {
      "cell_type": "raw",
      "metadata": {},
      "source": [
        "---\n",
        "title: Jupyter Shortcuts\n",
        "format:\n",
        "  html:\n",
        "    toc: true\n",
        "    toc-depth: 5\n",
        "    toc-location: right\n",
        "    code-fold: false\n",
        "    theme:\n",
        "      - cosmo\n",
        "      - cerulean\n",
        "    callout-icon: false\n",
        "---"
      ]
    },
    {
      "cell_type": "markdown",
      "metadata": {},
      "source": [
        "::: {.callout-note collapse=\"false\"}\n",
        "**Note**: if you're using a MacBook, please replace `ctrl` with `cmd`\n",
        ":::\n",
        "\n",
        "## Shortcuts for Cells\n",
        "\n",
        "For the following commands, make sure you're in command mode. You can enter this mode by pressing `esc`.\n",
        "\n",
        "- `a`: create a cell above\n",
        "- `b`: create a cell below\n",
        "- `dd`: delete current cell\n",
        "- `m`: convert a cell to markdown (text cell)\n",
        "- `y`: convert a cell to code \n",
        "\n",
        "## Running Cells\n",
        "\n",
        "For individual cells, \n",
        "\n",
        "- `ctrl` + `return`: run the current cell\n",
        "- `shift` + `return`: run the current cell and move to the next cell\n",
        "\n",
        "To run all cells in a notebook: \n",
        "\n",
        "- In the menu bar on the left, click `Run`. From here, you have several options. The ones we use most commonly are:\n",
        "\n",
        "    - `Run All Above Selected Cell`: this runs every cell above the selected cell \n",
        "    - `Run Selected Cell and All Below`: this runs the selected cell and all cells below\n",
        "    - `Run All`: this runs every cell in the notebook from top-to-bottom\n",
        " \n",
        "<center><img src = \"run_all.gif\" width = \"500\"></img></a></center>\n",
        "\n",
        "## Restarting Kernel\n",
        "In the menu bar on the left, click `Kernel`. From here, you have several options. The ones we use most commly are: \n",
        "\n",
        "- `Restart Kernel...`\n",
        "- `Restart Kernel and Run up to Selected Cell`\n",
        "- `Restart Kernel and Run All Cells` \n",
        "\n",
        "<center><img src = \"kernel.gif\" width = \"500\"></img></a></center>\n"
      ]
    }
  ],
  "metadata": {
    "kernelspec": {
      "name": "python3",
      "language": "python",
      "display_name": "Python 3 (ipykernel)"
    }
  },
  "nbformat": 4,
  "nbformat_minor": 4
}