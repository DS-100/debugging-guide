{
 "cells": [
  {
   "cell_type": "raw",
   "metadata": {},
   "source": [
    "---\n",
    "title: General Jupyter Troubleshooting\n",
    "format:\n",
    "  html:\n",
    "    toc: true\n",
    "    toc-depth: 5\n",
    "    toc-location: right\n",
    "    code-fold: false\n",
    "    theme:\n",
    "      - cosmo\n",
    "      - cerulean\n",
    "    callout-icon: false\n",
    "---"
   ]
  },
  {
   "cell_type": "markdown",
   "metadata": {},
   "source": [
    "Table doesn’t exist/undefined -- load prev cells after \n",
    "Saved Ed reply when student can’t edit a markdown cell\n",
    "Run cells + save if test not passing (example, other example, other other error) \n",
    "LaTeX failed errors (example)\n",
    "Screenshot unless infra fixes in time \n",
    "“Please remove special latex characters (e.g. \\n) from your free response answers.”\n",
    "Accidentally changed code → markdown or vice versa (example) \n",
    "How to restart server? \n"
   ]
  }
 ],
 "metadata": {
  "language_info": {
   "name": "python"
  }
 },
 "nbformat": 4,
 "nbformat_minor": 2
}
