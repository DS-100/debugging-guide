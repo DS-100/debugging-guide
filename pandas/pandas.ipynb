{
  "cells": [
    {
      "cell_type": "raw",
      "metadata": {},
      "source": [
        "---\n",
        "title: Pandas Troubleshooting\n",
        "format:\n",
        "  html:\n",
        "    toc: true\n",
        "    toc-depth: 5\n",
        "    toc-location: right\n",
        "    code-fold: false\n",
        "    theme:\n",
        "      - cosmo\n",
        "      - cerulean\n",
        "    callout-icon: false\n",
        "---"
      ]
    },
    {
      "cell_type": "markdown",
      "metadata": {},
      "source": [
        "`object of type 'int' has no len()`\n",
        "`KeyError`` (column doesn’t exist in table) (example) \n",
        "`Name `__` is not defined`` (example, other example)\n",
        "`TypeError: cannot convert __ to a float`` (example) \n",
        "Ignore warning messages (or just suppress all warnings in a notebook) (example)\n",
        "\n",
        "\n",
        "\n",
        "### My code is taking a really long time to run\n",
        "It is normal for a cell to take a few seconds -- sometimes a few minutes -- to run. If the code is taking too long, however, you have several options: \n",
        "\n",
        "1. Try restarting the kernel. Sometimes, Datahub glitches or lags, causing the code to run slower than expected. Restarting the kernel should fix this problem, but if the cell is still taking a while to run, it is likely a problem with your code.\n",
        "2. Scrutinize your code. Am I using too many for loops? Is there a repeated operation that I can substitute with a `pandas` function? \n"
      ]
    },
    {
      "cell_type": "markdown",
      "metadata": {},
      "source": []
    }
  ],
  "metadata": {
    "kernelspec": {
      "display_name": "Python 3 (ipykernel)",
      "language": "python",
      "name": "python3"
    }
  },
  "nbformat": 4,
  "nbformat_minor": 4
}
