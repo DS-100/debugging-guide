{
 "cells": [
  {
   "cell_type": "raw",
   "metadata": {},
   "source": [
    "---\n",
    "title: Autograder and Gradescope Troubleshooting\n",
    "format:\n",
    "  html:\n",
    "    toc: true\n",
    "    toc-depth: 5\n",
    "    toc-location: right\n",
    "    code-fold: false\n",
    "    theme:\n",
    "      - cosmo\n",
    "      - cerulean\n",
    "    callout-icon: false\n",
    "---"
   ]
  },
  {
   "cell_type": "markdown",
   "metadata": {},
   "source": [
    "## Autograder\n",
    "\n",
    "Why does running a particular cell cause my kernel to die?\n",
    "How do I quickly run all the cells in a notebook?\n",
    "Why does grader.check_all() fail, if all previous tests passed?\n",
    "Why does a notebook test fail now, when it passed before and I didn’t change my code?\n",
    "Why did a Gradescope test fail, when all the notebook’s tests passed?\n",
    "Why do I get an error saying grader is not defined?\n",
    "I’m positive I have the right answer, but the test fails. Is there a mistake in the test?\n",
    "I accidentally deleted something in a cell that was provided to me – how do I get it back?\n",
    "I accidentally added something to the grader.check cell in a notebook and I can’t delete it – how do I fix it?\n",
    "\n",
    "## Gradescope\n",
    "\n",
    "My tests are passing on Jupyter but not on Gradescope \n",
    "Autograder timed out/keeps running (example)"
   ]
  }
 ],
 "metadata": {
  "language_info": {
   "name": "python"
  }
 },
 "nbformat": 4,
 "nbformat_minor": 2
}
