{
 "cells": [
  {
   "cell_type": "raw",
   "metadata": {},
   "source": [
    "---\n",
    "title: Autograder and Gradescope Troubleshooting\n",
    "format:\n",
    "  html:\n",
    "    toc: true\n",
    "    toc-depth: 5\n",
    "    toc-location: right\n",
    "    code-fold: false\n",
    "    theme:\n",
    "      - cosmo\n",
    "      - cerulean\n",
    "    callout-icon: false\n",
    "---"
   ]
  },
  {
   "cell_type": "markdown",
   "metadata": {},
   "source": [
    "::: {.callout-note collapse=\"true\"}\n",
    "**Citation**: many of these common questions were taken and modified from the UC San Diego course DSC 10: Principles of Data Science and their [debugging guide](https://dsc10.com/debugging/).\n",
    "\n",
    ":::\n",
    "\n",
    "## Autograder\n",
    "\n",
    "### Why do I get an error saying \"`grader is not defined`\"?\n",
    "If it has been a while since you’ve worked on an assignment, the kernel will shut itself down to preserve memory. When this happens, all of your variables are forgotten, including the grader. That’s OK. The easiest way to fix this is by restarting your kernel and rerunning all the cells. To do this, in the top left menu, click `Kernel` -> `Restart and Run All Cells`.\n",
    "\n",
    "### I’m positive I have the right answer, but the test fails. Is there a mistake in the test?\n",
    "While you might see the correct answer displayed as the result of the cell, chances are you solution isn’t being stored in the answer variable. Make sure you are assigning the result to the answer variable and that there are no typos in the variable name. Finally, restart your kernel and run all the cells in-order: `Kernel` -> `Restart and Run All Cells`.\n",
    "\n",
    "### Why does `grader.check_all()` fail if all previous tests passed?\n",
    "This can happen if you “overwrite” a variable that is used in a question. For instance, if Question 1 asks you to store your answer in a variable named `stat` and, later on in the notebook, you change the value of `stat`, the test after Question 1 will pass, but the test at the end of the notebook will fail. It is good programming practice to give your variables informative names and to avoid repeating the same variable name for more than one purpose.\n",
    "\n",
    "### Why does a notebook test fail now when it passed before, and I didn’t change my code?\n",
    "You probably ran your notebook out of order. Re-run all previous cells in order, which is how your code will be graded.\n",
    "\n",
    "### I accidentally deleted something in a cell that was provided to me – how do I get it back?\n",
    "Suppose you’re working on Lab 5. One solution is go directly to DataHub and rename your lab05 folder to something else, like lab05-old. Then, click the Lab 5 link on the course website again, and it’ll bring you to a brand-new version of Lab 5. You can then copy your work from your old Lab 5 to this new one, which should have the original version of the assignment."
   ]
  },
  {
   "cell_type": "markdown",
   "metadata": {},
   "source": [
    "## Gradescope\n",
    "\n",
    "When submitting to Gradescope, there are often unexpected errors that make students loose more points than expected. Thus, it is imperative that you stay on the submission page until the autograder finishes running, and the results are displayed. \n",
    "\n",
    "### Why did a Gradescope test fail when all the Jupyter notebook’s tests passed?\n",
    "This can happen if you’re running your notebook’s cells out-of-order. The autograder runs your notebook from top-to-bottom. If you’re defining a variable at the bottom of your notebook and using it at the top, the Gradescope autograder will fail because it doesn’t recognize the variable when it encounters it.\n",
    "\n",
    "This is why we recommend going into the top left menu and clicking `Kernel`` -> `Restart` -> `Run All``. The autograder “forgets” all of the variables and runs the notebook from top-to-bottom like the Gradescope autograder does. This will highlight any issues. \n",
    "\n",
    "Find the first cell that raises an error. Make sure that all of the variables used in that cell have been defined above that cell, and not below.\n",
    "\n",
    "### My autograder keeps running/timed out\n",
    "\n",
    "If your Gradescope submission page has been stuck running on this page for a while \n",
    "\n",
    "<center><img src = \"gradescope_loading.png\" width = \"500\"></img></a></center>\n",
    "\n",
    "or if it timed out\n",
    "\n",
    "<center><img src = \"gradescope_timeout.png\" width = \"500\"></img></a></center>\n",
    "\n",
    "this means that the Gradescope autograder failed to execute in the expected amount of time. This could be a problem on Gradescope's end, so we recommend resubmitting and letting the autograder rereun. If it still fails, please make a private Ed post. "
   ]
  },
  {
   "cell_type": "markdown",
   "metadata": {},
   "source": []
  }
 ],
 "metadata": {
  "language_info": {
   "name": "python"
  }
 },
 "nbformat": 4,
 "nbformat_minor": 2
}
