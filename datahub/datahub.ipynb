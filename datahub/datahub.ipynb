{
 "cells": [
  {
   "cell_type": "raw",
   "metadata": {},
   "source": [
    "---\n",
    "title: Datahub Troubleshooting\n",
    "format:\n",
    "  html:\n",
    "    toc: true\n",
    "    toc-depth: 5\n",
    "    toc-location: right\n",
    "    code-fold: false\n",
    "    theme:\n",
    "      - cosmo\n",
    "      - cerulean\n",
    "    callout-icon: false\n",
    "---"
   ]
  },
  {
   "cell_type": "markdown",
   "metadata": {},
   "source": [
    "### I can’t edit a cell\n",
    "We set some cells to read-only mode prevent accidental modification. To make the cell writeable,\n",
    "\n",
    "1. Click the cell\n",
    "2. Click setting on the top right corner\n",
    "3. Under \"Common Tools\", you can toggle between \"Editable\" (can edit the cell) and \"Read-Only\" (cannot edit the cell)\n",
    "\n",
    "<center><img src = \"toggle_edit.gif\" width = \"500\"></img></a></center>\n",
    "\n",
    "### I can’t export my assignment as a PDF due to a `LatexFailed` error \n",
    "Occasionally when running the `grader.export(run_tests=True)` cell at the end of the notebook, you run into an error where the PDF failed to generate: \n",
    "\n",
    "<center><img src = \"LatexError.png\" width = \"700\"></img></a></center>\n",
    "\n",
    "Converting a Jupyter notebook to a PDF involves formatting some of the markdown text in [LaTeX](https://www.latex-project.org/). However, this process will fail if your free response answers have (unresolved) LaTeX characters like `\\n`, `$`, or `$$`. If you're short on time, your best bet is to take screenshots of your free response answers, paste them into a Google Doc, and submit that as a PDF to Gradescope. If you have more time and would like the Datahub-generated PDF, please remove any special LaTeX characters from your free response answers.\n",
    "\n",
    "### My text cell looks like code\n",
    "If you double click on a text (markdown) cell, it'll appear in it's raw format. To fix this, simply run the cell. If this doesn't fix the problem, check out the commonly asked question below.\n",
    "\n",
    "### My text cell changed to a code cell / my code cell changed to a text cell\n",
    "Sometimes, a text (markdown) cell was changed to a code cell, or a code cell can't be run because it's been changed to a text (markdown) or raw cell. To fix this, toggle the desired cell type in the top bar.\n",
    "\n",
    "<center><img src = \"toggle_cell_type.gif\" width = \"700\"></img></a></center>\n",
    "\n",
    "### Why does running a particular cell cause my kernel to die?\n",
    "If one particular cell seems to cause your kernel to die, this is likely because the computer is trying to use more memory than it has available. For instance: your code is trying to create a gigantic array. To prevent from crashing the entire server, the kernel will “die”. This is an indication that there is a mistake in your code that you need to fix.\n"
   ]
  },
  {
   "cell_type": "markdown",
   "metadata": {},
   "source": []
  }
 ],
 "metadata": {
  "language_info": {
   "name": "python"
  }
 },
 "nbformat": 4,
 "nbformat_minor": 2
}
